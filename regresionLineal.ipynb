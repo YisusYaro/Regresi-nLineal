{
 "cells": [
  {
   "cell_type": "markdown",
   "id": "adapted-tanzania",
   "metadata": {},
   "source": [
    "# Regresión Lineal"
   ]
  },
  {
   "cell_type": "markdown",
   "id": "proof-leave",
   "metadata": {},
   "source": [
    "### Se denomina regresión lineal cuando se requiere la determinación de dos parámetros: la pendiente y la ordenada en el origen de la recta de regresión, y=ax+b."
   ]
  },
  {
   "cell_type": "code",
   "execution_count": 5,
   "id": "spiritual-trinidad",
   "metadata": {},
   "outputs": [],
   "source": [
    "import numpy as np"
   ]
  },
  {
   "cell_type": "code",
   "execution_count": 6,
   "id": "yellow-barrier",
   "metadata": {},
   "outputs": [],
   "source": [
    "import matplotlib.pyplot as plt"
   ]
  },
  {
   "cell_type": "markdown",
   "id": "random-location",
   "metadata": {},
   "source": [
    "### Lamentables muertes por Covid-19\n",
    "\n",
    "La enfermedad por coronavirus (COVID 19) es una ‎enfermedad infecciosa causada por un ‎coronavirus recientemente descubierto. ‎\n",
    "\n",
    "El virus que causa la COVID‑19 se transmite principalmente a través de las gotículas generadas cuando una persona infectada tose, estornuda o espira. Estas gotículas son demasiado pesadas para permanecer suspendidas en el aire y caen rápidamente sobre el suelo o las superficies.\n",
    "Usted puede infectarse al inhalar el virus si está cerca de una persona con COVID‑19 o si, tras tocar una superficie contaminada, se toca los ojos, la nariz o la boca.\n",
    "\n",
    "Tristemente en México se han producido una muy importante cantidad de fallecimientos. Con la idea de predecir el número de muertes, se utiliza la siguiente base de datos utilizando estadísticas desde el primero de enero hasta la fecha actual.\n",
    "\n",
    "https://datosmacro.expansion.com/otros/coronavirus/mexico\n",
    "\n",
    "Finalmente se hará una predicción de la semana en curso en cuanto número de muertes.\n"
   ]
  },
  {
   "cell_type": "markdown",
   "id": "deadly-medicaid",
   "metadata": {},
   "source": [
    "###### Generamos nuestra nube de puntos\n",
    "\n",
    "El día 0 representa al 01/01/2021\n",
    "El día 75 representa al 17/03/2021"
   ]
  },
  {
   "cell_type": "code",
   "execution_count": 82,
   "id": "impaired-rebel",
   "metadata": {},
   "outputs": [
    {
     "data": {
      "image/png": "[encoded data removed]",
      "text/plain": [
       "<Figure size 432x288 with 1 Axes>"
      ]
     },
     "metadata": {
      "needs_background": "light"
     },
     "output_type": "display_data"
    }
   ],
   "source": [
    "X = np.arange(76)\n",
    "Y = np.array([700, 344, 362, 544, 1065, 1165, 1044, 1038, 1135, 502, 662, 1314, 1235, 999, 1106, 1219, 463, 544, 1584, 1539, 1803, 1440, 1470, 530, 659, 1743, 1623, 1506, 1434, 1495, 462, 564, 433, 1707, 0, 3050, 1496, 414, 531, 1701, 1328, 1474, 1323, 1214, 436, 450, 1329, 1075, 1047, 857, 832, 310, 429, 1273, 1006, 877, 782, 783, 458, 437, 1035, 857, 822, 712, 779, 247, 319, 866, 702, 661, 699, 639, 220, 234, 175, 789])\n",
    "\n",
    "plt.scatter(X,Y)\n",
    "plt.show()\n"
   ]
  },
  {
   "cell_type": "markdown",
   "id": "prepared-prairie",
   "metadata": {},
   "source": [
    "Formula minimizar el error cuadratico medio (MDO): $\\beta = (X^{T}X)^{-1}X^{T}Y$"
   ]
  },
  {
   "cell_type": "code",
   "execution_count": 85,
   "id": "precious-diana",
   "metadata": {},
   "outputs": [
    {
     "data": {
      "image/png": "[encoded data removed]",
      "text/plain": [
       "<Figure size 432x288 with 1 Axes>"
      ]
     },
     "metadata": {
      "needs_background": "light"
     },
     "output_type": "display_data"
    }
   ],
   "source": [
    "X = np.arange(76)\n",
    "Y = np.array([700, 344, 362, 544, 1065, 1165, 1044, 1038, 1135, 502, 662, 1314, 1235, 999, 1106, 1219, 463, 544, 1584, 1539, 1803, 1440, 1470, 530, 659, 1743, 1623, 1506, 1434, 1495, 462, 564, 433, 1707, 0, 3050, 1496, 414, 531, 1701, 1328, 1474, 1323, 1214, 436, 450, 1329, 1075, 1047, 857, 832, 310, 429, 1273, 1006, 877, 782, 783, 458, 437, 1035, 857, 822, 712, 779, 247, 319, 866, 702, 661, 699, 639, 220, 234, 175, 789])\n",
    "\n",
    "\n",
    "plt.scatter(X,Y)\n",
    "\n",
    "X = np.array([np.ones(76),X]).T\n",
    "\n",
    "B = np.linalg.inv(X.T @ X) @ X.T @ Y\n",
    "\n",
    "plt.plot([0,76], [B[0]+B[1]*0,B[0]+B[1]*75], c=\"red\")\n",
    "plt.show()"
   ]
  },
  {
   "cell_type": "markdown",
   "id": "bearing-headline",
   "metadata": {},
   "source": [
    "Obteniendo finalmente que:"
   ]
  },
  {
   "cell_type": "markdown",
   "id": "compliant-yacht",
   "metadata": {},
   "source": [
    "18/03/21:"
   ]
  },
  {
   "cell_type": "code",
   "execution_count": 86,
   "id": "logical-desktop",
   "metadata": {},
   "outputs": [
    {
     "name": "stdout",
     "output_type": "stream",
     "text": [
      "682.1705263157899\n"
     ]
    }
   ],
   "source": [
    "print(B[0]+B[1]*76)"
   ]
  },
  {
   "cell_type": "markdown",
   "id": "technical-purchase",
   "metadata": {},
   "source": [
    "19/03/21:"
   ]
  },
  {
   "cell_type": "code",
   "execution_count": 87,
   "id": "laden-victoria",
   "metadata": {},
   "outputs": [
    {
     "name": "stdout",
     "output_type": "stream",
     "text": [
      "675.9312781954892\n"
     ]
    }
   ],
   "source": [
    "print(B[0]+B[1]*77)"
   ]
  },
  {
   "cell_type": "markdown",
   "id": "original-excuse",
   "metadata": {},
   "source": [
    "20/03/21:"
   ]
  },
  {
   "cell_type": "code",
   "execution_count": 88,
   "id": "departmental-usage",
   "metadata": {},
   "outputs": [
    {
     "name": "stdout",
     "output_type": "stream",
     "text": [
      "669.6920300751884\n"
     ]
    }
   ],
   "source": [
    "print(B[0]+B[1]*78)"
   ]
  },
  {
   "cell_type": "markdown",
   "id": "accomplished-mexican",
   "metadata": {},
   "source": [
    "21/03/21:"
   ]
  },
  {
   "cell_type": "code",
   "execution_count": 89,
   "id": "congressional-victim",
   "metadata": {},
   "outputs": [
    {
     "name": "stdout",
     "output_type": "stream",
     "text": [
      "663.4527819548877\n"
     ]
    }
   ],
   "source": [
    "print(B[0]+B[1]*79)"
   ]
  },
  {
   "cell_type": "markdown",
   "id": "funky-personal",
   "metadata": {},
   "source": [
    "22/03/21:"
   ]
  },
  {
   "cell_type": "code",
   "execution_count": 90,
   "id": "secondary-samuel",
   "metadata": {},
   "outputs": [
    {
     "name": "stdout",
     "output_type": "stream",
     "text": [
      "657.2135338345869\n"
     ]
    }
   ],
   "source": [
    "print(B[0]+B[1]*80)"
   ]
  },
  {
   "cell_type": "markdown",
   "id": "cutting-currency",
   "metadata": {},
   "source": [
    "23/03/21:"
   ]
  },
  {
   "cell_type": "code",
   "execution_count": 92,
   "id": "smaller-stupid",
   "metadata": {},
   "outputs": [
    {
     "name": "stdout",
     "output_type": "stream",
     "text": [
      "650.9742857142862\n"
     ]
    }
   ],
   "source": [
    "print(B[0]+B[1]*81)"
   ]
  },
  {
   "cell_type": "markdown",
   "id": "rapid-killer",
   "metadata": {},
   "source": [
    "24/03/21:"
   ]
  },
  {
   "cell_type": "code",
   "execution_count": 93,
   "id": "tracked-bench",
   "metadata": {},
   "outputs": [
    {
     "name": "stdout",
     "output_type": "stream",
     "text": [
      "644.7350375939855\n"
     ]
    }
   ],
   "source": [
    "print(B[0]+B[1]*82)"
   ]
  },
  {
   "cell_type": "code",
   "execution_count": null,
   "id": "announced-aquatic",
   "metadata": {},
   "outputs": [],
   "source": []
  }
 ],
 "metadata": {
  "kernelspec": {
   "display_name": "Python 3",
   "language": "python",
   "name": "python3"
  },
  "language_info": {
   "codemirror_mode": {
    "name": "ipython",
    "version": 3
   },
   "file_extension": ".py",
   "mimetype": "text/x-python",
   "name": "python",
   "nbconvert_exporter": "python",
   "pygments_lexer": "ipython3",
   "version": "3.8.5"
  }
 },
 "nbformat": 4,
 "nbformat_minor": 5
}
